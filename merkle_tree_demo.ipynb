{
 "cells": [
  {
   "cell_type": "markdown",
   "metadata": {},
   "source": [
    "## Import library"
   ]
  },
  {
   "cell_type": "code",
   "execution_count": 1,
   "metadata": {},
   "outputs": [],
   "source": [
    "from merkle.merkletreeplot import MerkleTreePlot"
   ]
  },
  {
   "cell_type": "markdown",
   "metadata": {},
   "source": [
    "## Plot Merkle Tree"
   ]
  },
  {
   "cell_type": "code",
   "execution_count": 2,
   "metadata": {},
   "outputs": [],
   "source": [
    "tree = MerkleTreePlot(number_of_leafs=32, leave_name=\"transaction\")\n",
    "tree.plot_merkletree()"
   ]
  },
  {
   "cell_type": "markdown",
   "metadata": {},
   "source": [
    "## Change transaction"
   ]
  },
  {
   "cell_type": "code",
   "execution_count": 3,
   "metadata": {},
   "outputs": [],
   "source": [
    "tree = MerkleTreePlot(number_of_leafs=64, leave_name=\"transaction\")\n",
    "tree.change_leaf(leaf_number=23)\n",
    "tree.rotation=90\n",
    "tree.plot_merkletree()"
   ]
  },
  {
   "cell_type": "markdown",
   "metadata": {},
   "source": [
    "## Search verification nodes"
   ]
  },
  {
   "cell_type": "code",
   "execution_count": 4,
   "metadata": {},
   "outputs": [],
   "source": [
    "tree = MerkleTreePlot(number_of_leafs=64, leave_name=\"transaction\")\n",
    "tree.mark_verification_nodes(leaf_number=23)\n",
    "tree.rotation=90\n",
    "tree.plot_merkletree()"
   ]
  },
  {
   "cell_type": "markdown",
   "metadata": {},
   "source": [
    "## Plotting rules\n",
    "1. You can only plot merkle trees which consist of: $2^{(n+1)}$ leafes.\n",
    " * If you provide a different leaf-number the next smallest merkle tree will be plotted.\n",
    " \n",
    " \n",
    "2. The colors of the highlighted nodes can be changed within the respective functions (see [here](http://etetoolkit.org/docs/latest/reference/reference_treeview.html))"
   ]
  },
  {
   "cell_type": "code",
   "execution_count": 5,
   "metadata": {},
   "outputs": [],
   "source": [
    "tree = MerkleTreePlot(number_of_leafs=23, leave_name=\"transaction\")\n",
    "tree.plot_merkletree()"
   ]
  },
  {
   "cell_type": "code",
   "execution_count": 6,
   "metadata": {},
   "outputs": [
    {
     "name": "stdout",
     "output_type": "stream",
     "text": [
      "list index out of range\n",
      "No leaf 23 available due to not processable leaf-number for merkle tree.\n",
      "Number of leafes to display should be: 2^(n+1)\n"
     ]
    }
   ],
   "source": [
    "tree.mark_verification_nodes(leaf_number=23)\n",
    "tree.plot_merkletree()"
   ]
  }
 ],
 "metadata": {
  "kernelspec": {
   "display_name": "Python 3",
   "language": "python",
   "name": "python3"
  },
  "language_info": {
   "codemirror_mode": {
    "name": "ipython",
    "version": 3
   },
   "file_extension": ".py",
   "mimetype": "text/x-python",
   "name": "python",
   "nbconvert_exporter": "python",
   "pygments_lexer": "ipython3",
   "version": "3.6.6"
  }
 },
 "nbformat": 4,
 "nbformat_minor": 2
}
